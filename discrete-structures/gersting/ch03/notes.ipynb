{
 "cells": [
  {
   "cell_type": "code",
   "execution_count": 28,
   "metadata": {},
   "outputs": [],
   "source": [
    "def min_index(a) :\n",
    "    i = 0\n",
    "    j = i\n",
    "    # j == min_index(a[0 .. i))\n",
    "    while i < len(a) :\n",
    "        if a[i] < a[j] : j = i\n",
    "        i = i + 1\n",
    "    # i == len(a)\n",
    "    return j\n",
    "\n",
    "def max_index(a) :\n",
    "    i = 0\n",
    "    j = i\n",
    "    # j == min_index(a[0 .. i))\n",
    "    while i < len(a) :\n",
    "        if a[i] > a[j] : j = i\n",
    "        i = i + 1\n",
    "    # i == len(a)\n",
    "    return j\n",
    "\n",
    "def selection_sort(a) :\n",
    "    i = 0\n",
    "    # sorted(a[0 .. i)) && a[0 .. i) <= a[i .. len(a))\n",
    "    while i < len(a) :\n",
    "        j = min_index(a[i:])\n",
    "        print(a, j)\n",
    "        a[i], a[j + i] = a[j + i], a[i]\n",
    "        print(a)\n",
    "        i = i + 1\n",
    "    return a\n",
    "\n",
    "# selection sort recursively\n",
    "def sort(a, i):\n",
    "    if i == 0 : return a\n",
    "    j = max_index(a[:i + 1])\n",
    "    # print(a, j)\n",
    "    a[j], a[i] = a[i], a[j]\n",
    "    # print(a)\n",
    "    sort(a, i - 1)\n",
    "    return a\n",
    "\n",
    "\n",
    "\n"
   ]
  },
  {
   "cell_type": "code",
   "execution_count": 29,
   "metadata": {},
   "outputs": [
    {
     "data": {
      "text/plain": [
       "[-99, -10, -2, -1, 3, 100]"
      ]
     },
     "execution_count": 29,
     "metadata": {},
     "output_type": "execute_result"
    }
   ],
   "source": [
    "a = [3, -2, -1, -10, -99, 100 ]\n",
    "min_index(a[0 :])\n",
    "# a[0], a[1] = a[1], a[0]\n",
    "# a\n",
    "# selection_sort(a)\n",
    "sort(a, len(a) - 1)\n",
    "# a[1 :]\n",
    "# alright hti this is the thing \n",
    "# max_index(a)"
   ]
  },
  {
   "cell_type": "code",
   "execution_count": 46,
   "metadata": {},
   "outputs": [],
   "source": [
    "def search(a, i, j, x) :\n",
    "    if i > j : return -1\n",
    "    k = (i + j) // 2\n",
    "    print(k, a[k])\n",
    "    if x == a[k] : return k\n",
    "    if x > a[k] : return search(a, k + 1, j, x)\n",
    "    if x < a[k] : return search(a, i, k - 1, x)"
   ]
  },
  {
   "cell_type": "code",
   "execution_count": 47,
   "metadata": {},
   "outputs": [
    {
     "name": "stdout",
     "output_type": "stream",
     "text": [
      "1 1\n",
      "1\n"
     ]
    }
   ],
   "source": [
    "print(search(sort([1, -2, 3, 10], 3), 0, 3, 1))"
   ]
  },
  {
   "cell_type": "code",
   "execution_count": 15,
   "metadata": {},
   "outputs": [
    {
     "data": {
      "text/plain": [
       "6"
      ]
     },
     "execution_count": 15,
     "metadata": {},
     "output_type": "execute_result"
    }
   ],
   "source": [
    "(3 + 10) // 2"
   ]
  },
  {
   "cell_type": "code",
   "execution_count": 16,
   "metadata": {},
   "outputs": [
    {
     "data": {
      "text/plain": [
       "6.5"
      ]
     },
     "execution_count": 16,
     "metadata": {},
     "output_type": "execute_result"
    }
   ],
   "source": [
    "(3 + 10) / 2"
   ]
  },
  {
   "cell_type": "code",
   "execution_count": 48,
   "metadata": {},
   "outputs": [
    {
     "data": {
      "text/plain": [
       "[-300, -99, -3, 1, 4, 10]"
      ]
     },
     "execution_count": 48,
     "metadata": {},
     "output_type": "execute_result"
    }
   ],
   "source": [
    "a = [1, -3, 4, 10, -99, -300]\n",
    "b = sort(a, len(a) - 1) \n",
    "b\n"
   ]
  },
  {
   "cell_type": "code",
   "execution_count": 43,
   "metadata": {},
   "outputs": [
    {
     "data": {
      "text/plain": [
       "4"
      ]
     },
     "execution_count": 43,
     "metadata": {},
     "output_type": "execute_result"
    }
   ],
   "source": [
    "search(b, 0, len(b) - 1, 4)"
   ]
  },
  {
   "cell_type": "code",
   "execution_count": 49,
   "metadata": {},
   "outputs": [],
   "source": [
    "def search_2(a, x) :\n",
    "    i = 0; j = len(a) - 1\n",
    "    # invariant: x possibly in a[i..j]\n",
    "    while i < j :\n",
    "        key = (i + j) // 2\n",
    "        if x == a[key] : return key\n",
    "        if x > a[key] : i = key + 1\n",
    "        if x < a[key] : j = key - 1\n",
    "    # post-condition: i >= j\n",
    "    if i == j and a[i] == x : return i\n",
    "    return -1"
   ]
  },
  {
   "cell_type": "code",
   "execution_count": 73,
   "metadata": {},
   "outputs": [
    {
     "data": {
      "text/plain": [
       "-1"
      ]
     },
     "execution_count": 73,
     "metadata": {},
     "output_type": "execute_result"
    }
   ],
   "source": [
    "a = [-1, 2, 4, 10]\n",
    "search_2(a, 11)"
   ]
  },
  {
   "cell_type": "code",
   "execution_count": null,
   "metadata": {},
   "outputs": [],
   "source": []
  }
 ],
 "metadata": {
  "kernelspec": {
   "display_name": "Python 3",
   "language": "python",
   "name": "python3"
  },
  "language_info": {
   "codemirror_mode": {
    "name": "ipython",
    "version": 3
   },
   "file_extension": ".py",
   "mimetype": "text/x-python",
   "name": "python",
   "nbconvert_exporter": "python",
   "pygments_lexer": "ipython3",
   "version": "3.10.12"
  }
 },
 "nbformat": 4,
 "nbformat_minor": 2
}
