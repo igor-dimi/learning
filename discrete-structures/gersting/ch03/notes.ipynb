{
 "cells": [
  {
   "cell_type": "code",
   "execution_count": 54,
   "metadata": {},
   "outputs": [],
   "source": [
    "def min_index(a) :\n",
    "    i = 0\n",
    "    j = i\n",
    "    # j == min_index(a[0 .. i))\n",
    "    while i < len(a) :\n",
    "        if a[i] < a[j] : j = i\n",
    "        i = i + 1\n",
    "    # i == len(a)\n",
    "    return j\n",
    "\n",
    "def max_index(a) :\n",
    "    i = 0\n",
    "    j = i\n",
    "    # j == min_index(a[0 .. i))\n",
    "    while i < len(a) :\n",
    "        if a[i] > a[j] : j = i\n",
    "        i = i + 1\n",
    "    # i == len(a)\n",
    "    return j\n",
    "\n",
    "def selection_sort(a) :\n",
    "    i = 0\n",
    "    # sorted(a[0 .. i)) && a[0 .. i) <= a[i .. len(a))\n",
    "    while i < len(a) :\n",
    "        j = min_index(a[i:])\n",
    "        print(a, j)\n",
    "        a[i], a[j + i] = a[j + i], a[i]\n",
    "        print(a)\n",
    "        i = i + 1\n",
    "    return a\n",
    "\n",
    "# selection sort recursively\n",
    "def sort(a, i):\n",
    "    if i == 0 : return a\n",
    "    j = max_index(a[:i + 1])\n",
    "    print(a, j)\n",
    "    a[j], a[i] = a[i], a[j]\n",
    "    print(a)\n",
    "    sort(a, i - 1)\n",
    "    return a\n",
    "\n",
    "\n",
    "\n"
   ]
  },
  {
   "cell_type": "code",
   "execution_count": 55,
   "metadata": {},
   "outputs": [
    {
     "name": "stdout",
     "output_type": "stream",
     "text": [
      "[3, -2, -1, -10, -99, 100] 5\n",
      "[3, -2, -1, -10, -99, 100]\n",
      "[3, -2, -1, -10, -99, 100] 0\n",
      "[-99, -2, -1, -10, 3, 100]\n",
      "[-99, -2, -1, -10, 3, 100] 2\n",
      "[-99, -2, -10, -1, 3, 100]\n",
      "[-99, -2, -10, -1, 3, 100] 1\n",
      "[-99, -10, -2, -1, 3, 100]\n",
      "[-99, -10, -2, -1, 3, 100] 1\n",
      "[-99, -10, -2, -1, 3, 100]\n"
     ]
    },
    {
     "data": {
      "text/plain": [
       "[-99, -10, -2, -1, 3, 100]"
      ]
     },
     "execution_count": 55,
     "metadata": {},
     "output_type": "execute_result"
    }
   ],
   "source": [
    "a = [3, -2, -1, -10, -99, 100 ]\n",
    "min_index(a[0 :])\n",
    "# a[0], a[1] = a[1], a[0]\n",
    "# a\n",
    "# selection_sort(a)\n",
    "sort(a, len(a) - 1)\n",
    "# a[1 :]\n",
    "# alright hti this is the thing \n",
    "# max_index(a)"
   ]
  },
  {
   "cell_type": "code",
   "execution_count": null,
   "metadata": {},
   "outputs": [],
   "source": []
  }
 ],
 "metadata": {
  "kernelspec": {
   "display_name": "Python 3",
   "language": "python",
   "name": "python3"
  },
  "language_info": {
   "codemirror_mode": {
    "name": "ipython",
    "version": 3
   },
   "file_extension": ".py",
   "mimetype": "text/x-python",
   "name": "python",
   "nbconvert_exporter": "python",
   "pygments_lexer": "ipython3",
   "version": "3.10.12"
  }
 },
 "nbformat": 4,
 "nbformat_minor": 2
}
