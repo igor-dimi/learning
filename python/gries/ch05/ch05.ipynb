{
 "cells": [
  {
   "cell_type": "code",
   "execution_count": 5,
   "id": "85f475f6",
   "metadata": {},
   "outputs": [],
   "source": [
    "def xor(val1: bool, val2: bool) -> bool:\n",
    "    return val1 != val2"
   ]
  },
  {
   "cell_type": "code",
   "execution_count": 6,
   "id": "1ff3af7c",
   "metadata": {},
   "outputs": [
    {
     "name": "stdout",
     "output_type": "stream",
     "text": [
      "False\n",
      "True\n",
      "True\n",
      "False\n"
     ]
    }
   ],
   "source": [
    "print(xor(False, False))\n",
    "print(xor(False, True))\n",
    "print(xor(True, False))\n",
    "print(xor(True, True))"
   ]
  },
  {
   "cell_type": "code",
   "execution_count": 7,
   "id": "603cf511",
   "metadata": {},
   "outputs": [
    {
     "data": {
      "text/plain": [
       "True"
      ]
     },
     "execution_count": 7,
     "metadata": {},
     "output_type": "execute_result"
    }
   ],
   "source": [
    "x = 3\n",
    "1 < x <= 5"
   ]
  }
 ],
 "metadata": {
  "kernelspec": {
   "display_name": "Python 3",
   "language": "python",
   "name": "python3"
  },
  "language_info": {
   "codemirror_mode": {
    "name": "ipython",
    "version": 3
   },
   "file_extension": ".py",
   "mimetype": "text/x-python",
   "name": "python",
   "nbconvert_exporter": "python",
   "pygments_lexer": "ipython3",
   "version": "3.10.12"
  }
 },
 "nbformat": 4,
 "nbformat_minor": 5
}
