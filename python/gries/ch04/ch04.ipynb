{
 "cells": [
  {
   "cell_type": "code",
   "execution_count": null,
   "id": "5a200f21",
   "metadata": {},
   "outputs": [],
   "source": [
    "# Working with Text"
   ]
  },
  {
   "cell_type": "code",
   "execution_count": 5,
   "id": "cb742782",
   "metadata": {},
   "outputs": [
    {
     "data": {
      "text/plain": [
       "'hey there'"
      ]
     },
     "execution_count": 5,
     "metadata": {},
     "output_type": "execute_result"
    }
   ],
   "source": [
    "type('aristotle')\n",
    "type(\"c\")\n",
    "3\n",
    "'hey there'"
   ]
  },
  {
   "cell_type": "code",
   "execution_count": 7,
   "id": "735c0924",
   "metadata": {},
   "outputs": [
    {
     "data": {
      "text/plain": [
       "0"
      ]
     },
     "execution_count": 7,
     "metadata": {},
     "output_type": "execute_result"
    }
   ],
   "source": [
    "len('albert einstein')\n",
    "len('')"
   ]
  },
  {
   "cell_type": "code",
   "execution_count": 11,
   "id": "f140dbdf",
   "metadata": {},
   "outputs": [
    {
     "name": "stdout",
     "output_type": "stream",
     "text": [
      "139762197409792 139762197409792\n",
      "eyeyey ey\n",
      "139762197406480 139762197409792\n"
     ]
    }
   ],
   "source": [
    "s = 'ey'\n",
    "t = s\n",
    "\n",
    "id(s) == id(t)\n",
    "print(id(s), id(t))\n",
    "s *= 3\n",
    "print(s, t)\n",
    "print(id(s), id(t))"
   ]
  },
  {
   "cell_type": "code",
   "execution_count": null,
   "id": "b088f3af",
   "metadata": {},
   "outputs": [],
   "source": []
  }
 ],
 "metadata": {
  "kernelspec": {
   "display_name": "Python 3",
   "language": "python",
   "name": "python3"
  },
  "language_info": {
   "codemirror_mode": {
    "name": "ipython",
    "version": 3
   },
   "file_extension": ".py",
   "mimetype": "text/x-python",
   "name": "python",
   "nbconvert_exporter": "python",
   "pygments_lexer": "ipython3",
   "version": "3.13.2"
  }
 },
 "nbformat": 4,
 "nbformat_minor": 5
}
