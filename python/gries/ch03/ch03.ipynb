{
 "cells": [
  {
   "cell_type": "code",
   "execution_count": null,
   "id": "0d3eda33",
   "metadata": {},
   "outputs": [
    {
     "name": "stdout",
     "output_type": "stream",
     "text": [
      "4 3\n",
      "3 4\n",
      "4 3\n",
      "34 -4 21.0\n",
      "140094847181792 140094859006992 140094859007024 140094859006992\n",
      "140094337770416 140094337770416\n",
      "140094337769008 140094337769008\n"
     ]
    },
    {
     "data": {
      "text/plain": [
       "True"
      ]
     },
     "execution_count": 22,
     "metadata": {},
     "output_type": "execute_result"
    }
   ],
   "source": [
    "def f(n) :\n",
    "    n += 1\n",
    "    return n\n",
    "\n",
    "x = 3\n",
    "print(f(x), x)\n",
    "\n",
    "a, b = 3, 4\n",
    "print(a, b)\n",
    "a, b = b, a\n",
    "print(a, b)\n",
    "\n",
    "pow(3, 4)\n",
    "\n",
    "print(int(34.6), int(-4.3), float(21))\n",
    "\n",
    "pow(2, 4, 10)\n",
    "\n",
    "print(id(pow), id(x), id(a), id(b))\n",
    "\n",
    "id(x) - id(a)\n",
    "\n",
    "print(id(-9), id(-9))\n",
    "\n",
    "id(-9) == id(-9)\n",
    "\n",
    "z, y = -9, -9\n",
    "\n",
    "print(id(z), id(y))\n",
    "\n",
    "id(z) == id(y)\n"
   ]
  },
  {
   "cell_type": "code",
   "execution_count": 31,
   "id": "89236c15",
   "metadata": {},
   "outputs": [
    {
     "name": "stdout",
     "output_type": "stream",
     "text": [
      "Help on function <lambda> in module __main__:\n",
      "\n",
      "<lambda> lambda fahr\n",
      "\n",
      "Help on function convertF2C02 in module __main__:\n",
      "\n",
      "convertF2C02(fahr)\n",
      "\n"
     ]
    }
   ],
   "source": [
    "convertF2C = lambda fahr: (fahr - 32) * 5 / 9\n",
    "\n",
    "def convertF2C02(fahr) : \n",
    "    return (fahr - 32) * 5 / 9\n",
    "\n",
    "\n",
    "\n",
    "help(convertF2C)\n",
    "help(convertF2C02)"
   ]
  },
  {
   "cell_type": "code",
   "execution_count": 32,
   "id": "7c32621c",
   "metadata": {},
   "outputs": [
    {
     "data": {
      "text/plain": [
       "37.77777777777778"
      ]
     },
     "execution_count": 32,
     "metadata": {},
     "output_type": "execute_result"
    }
   ],
   "source": [
    "convertF2C(100)"
   ]
  },
  {
   "cell_type": "code",
   "execution_count": null,
   "id": "a0b6b210",
   "metadata": {},
   "outputs": [
    {
     "data": {
      "text/plain": [
       "True"
      ]
     },
     "execution_count": 37,
     "metadata": {},
     "output_type": "execute_result"
    }
   ],
   "source": [
    "f = lambda x : 2 * x\n",
    "\n",
    "x = 1; x = f(x + 1) + f(x + 2)\n",
    "x\n",
    "\n",
    "def f02(x) :\n",
    "    x *= 2\n",
    "    return x\n",
    "\n",
    "y = 1; y = f(y + 1) + f(y + 2)\n",
    "y\n",
    "x ==  y\n",
    "\n",
    "g = lambda x"
   ]
  },
  {
   "cell_type": "code",
   "execution_count": 43,
   "id": "8a69ce4f",
   "metadata": {},
   "outputs": [],
   "source": [
    "def days_difference(day1 : int, day2: int) -> int :\n",
    "    \"\"\"Return the number of days between day1 and day2,\n",
    "    which are both in the range 1 - 365 (thus indicating\n",
    "    the day of the year)\n",
    "\n",
    "    >>> days_difference(200, 224)\n",
    "    24\n",
    "    >>> days_difference(50, 50)\n",
    "    0\n",
    "    >>> days_difference(100, 99)\n",
    "    -1\n",
    "    \"\"\"\n",
    "    return day2 - day1\n",
    "\n",
    "\n",
    "days_difference(100, 4)\n",
    "\n",
    "\n",
    "# >>> get_weekday(3, 10)\n",
    "# 6\n",
    "# >>> get_weekday(1, 7)\n",
    "# 1\n",
    "# >>> get_weekday(7, -1)\n",
    "# 6\n",
    "\n",
    "def get_weekday(current_day : int, day_diff: int) -> int :\n",
    "    \"\"\"return the day of the week, given the current day\n",
    "    current_day and the difference of days from current day\n",
    "    day_diff.\n",
    "    current_day and returned day are in the range [1,..,7]\n",
    "    where\n",
    "    1 : Su, 2: Mo, ..., 7: Sat. \n",
    "\n",
    "\n",
    "    >>> get_weekday(3, 10)\n",
    "    6\n",
    "    >>> get_weekday(1, 7)\n",
    "    1\n",
    "    >>> get_weekday(7, -1)\n",
    "    6\n",
    "    \"\"\"\n",
    "    return ((current_day - 1) + day_diff) % 7 + 1\n",
    "\n",
    "\n"
   ]
  },
  {
   "cell_type": "code",
   "execution_count": null,
   "id": "858e7554",
   "metadata": {},
   "outputs": [],
   "source": [
    "def get_birthday_weekday(current_weekday : int, current_day : int, birthday_day : int) -> int :\n",
    "    \"\"\"\n",
    "    Return the  day of the week that birthday birthday_day will be on, given \n",
    "    the current day of the year current_day, and\n",
    "    the birthday birthday_day, also a day in the year\n",
    "    current_weekday is in the range [1..7] representing days [Su, ... Sat]\n",
    "    current_day and birthday_day are days of the year in the range [1...365]\n",
    "\n",
    "    >>> get_birthday_weekday(5, 3, 4)\n",
    "    6\n",
    "    >>> get_birthday_weekday(5, 3, 116)\n",
    "    6\n",
    "    >>> get_birthday_weekday(6, 116, 3)\n",
    "    5\n",
    "\n",
    "    \"\"\"\n",
    "    return get_weekday(current_weekday, \n",
    "                       days_difference(current_day, \n",
    "                                       birthday_day))\n",
    "\n"
   ]
  },
  {
   "cell_type": "code",
   "execution_count": 50,
   "id": "e6824564",
   "metadata": {},
   "outputs": [
    {
     "name": "stdout",
     "output_type": "stream",
     "text": [
      "6 6 5\n"
     ]
    }
   ],
   "source": [
    "\n",
    "print( get_birthday_weekday(5, 3, 4),\n",
    " get_birthday_weekday(5, 3, 116),\n",
    " get_birthday_weekday(6, 116, 3))"
   ]
  },
  {
   "cell_type": "code",
   "execution_count": 57,
   "id": "a260bb73",
   "metadata": {},
   "outputs": [
    {
     "name": "stdout",
     "output_type": "stream",
     "text": [
      "Help on function get_birthday_weekday in module __main__:\n",
      "\n",
      "get_birthday_weekday(current_weekday: int, current_day: int, birthday_day: int) -> int\n",
      "    Return the  day of the week that birthday birthday_day will be on, given\n",
      "    the current day of the year current_day, and\n",
      "    the birthday birthday_day\n",
      "    current_weekday is in the range [1..7] representing days [Su, ... Sat]\n",
      "    current_day and birthday_day are days of the year in the range [1...365]\n",
      "\n",
      "    >>> get_birthday_weekday(5, 3, 4)\n",
      "    6\n",
      "    >>> get_birthday_weekday(5, 3, 116)\n",
      "    6\n",
      "    >>> get_birthday_weekday(6, 116, 3)\n",
      "    5\n",
      "\n"
     ]
    }
   ],
   "source": [
    "help(get_birthday_weekday)"
   ]
  },
  {
   "cell_type": "code",
   "execution_count": null,
   "id": "a7697477",
   "metadata": {},
   "outputs": [],
   "source": []
  }
 ],
 "metadata": {
  "kernelspec": {
   "display_name": "Python 3",
   "language": "python",
   "name": "python3"
  },
  "language_info": {
   "codemirror_mode": {
    "name": "ipython",
    "version": 3
   },
   "file_extension": ".py",
   "mimetype": "text/x-python",
   "name": "python",
   "nbconvert_exporter": "python",
   "pygments_lexer": "ipython3",
   "version": "3.13.2"
  }
 },
 "nbformat": 4,
 "nbformat_minor": 5
}
